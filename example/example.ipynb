{
 "cells": [
  {
   "cell_type": "markdown",
   "metadata": {},
   "source": [
    "# IonQ Qiskit Provider Example"
   ]
  },
  {
   "cell_type": "markdown",
   "metadata": {},
   "source": [
    "This notebook will walk you through a basic example of using an IonQ backend with Qiskit"
   ]
  },
  {
   "cell_type": "markdown",
   "metadata": {},
   "source": [
    "## Setup\n",
    "\n",
    "First, get an API token from IonQ. This will be used by the IonQ provider inside Qiskit to submit circuits to the IonQ platform.\n",
    "\n",
    "Next, install the `qiskit-ionq` provider: `pip install qiskit-ionq`. If you're running this example notebook, you've likely already done this.\n",
    "\n",
    "### (Optional) Extra Dependencies\n",
    "\n",
    "Some examples use additional Python dependencies; please make sure to `pip install` them as needed.\n",
    "\n",
    "Dependencies:\n",
    "* `matplotlib`: To run `qiskit.visualization.plot_histogram`."
   ]
  },
  {
   "attachments": {},
   "cell_type": "markdown",
   "metadata": {},
   "source": [
    "## Usage & Examples\n",
    "\n",
    "**NOTE**: The provider expects an API key to be supplied via the `token` keyword argument to its constructor. If no token is directly provided, the provider will check for one in the `QISKIT_IONQ_API_TOKEN` environment variable.\n",
    "\n",
    "Now that the Python package has been installed, you can import and instantiate the provider:"
   ]
  },
  {
   "cell_type": "code",
   "execution_count": 1,
   "metadata": {},
   "outputs": [],
   "source": [
    "# import packages\n",
    "from qiskit import QuantumCircuit\n",
    "from qiskit.visualization import plot_histogram\n",
    "from qiskit_ionq import IonQProvider, ErrorMitigation\n",
    "\n",
    "provider = IonQProvider()"
   ]
  },
  {
   "cell_type": "markdown",
   "metadata": {},
   "source": [
    "## Example — Bell Pair"
   ]
  },
  {
   "cell_type": "markdown",
   "metadata": {},
   "source": [
    "Now, let's make a circuit for Bell pair, just to review some basic Qiskit syntax"
   ]
  },
  {
   "cell_type": "code",
   "execution_count": 2,
   "metadata": {},
   "outputs": [
    {
     "data": {
      "text/html": [
       "<pre style=\"word-wrap: normal;white-space: pre;background: #fff0;line-height: 1.1;font-family: &quot;Courier New&quot;,Courier,monospace\">     ┌───┐     ┌─┐   \n",
       "q_0: ┤ H ├──■──┤M├───\n",
       "     └───┘┌─┴─┐└╥┘┌─┐\n",
       "q_1: ─────┤ X ├─╫─┤M├\n",
       "          └───┘ ║ └╥┘\n",
       "c: 2/═══════════╩══╩═\n",
       "                0  1 </pre>"
      ],
      "text/plain": [
       "     ┌───┐     ┌─┐   \n",
       "q_0: ┤ H ├──■──┤M├───\n",
       "     └───┘┌─┴─┐└╥┘┌─┐\n",
       "q_1: ─────┤ X ├─╫─┤M├\n",
       "          └───┘ ║ └╥┘\n",
       "c: 2/═══════════╩══╩═\n",
       "                0  1 "
      ]
     },
     "execution_count": 2,
     "metadata": {},
     "output_type": "execute_result"
    }
   ],
   "source": [
    "# initialize the quantum circuit object with a quantum register length two and a classical register length two\n",
    "bell_qc = QuantumCircuit(2,2)\n",
    "\n",
    "# add gates — here we're creating a simple bell pair\n",
    "bell_qc.h(0)\n",
    "bell_qc.cnot(0,1)\n",
    "bell_qc.measure([0,1],[0,1])\n",
    "\n",
    "# draw the circuit to make sure it's what we expect\n",
    "bell_qc.draw()"
   ]
  },
  {
   "cell_type": "markdown",
   "metadata": {},
   "source": [
    "## Run on an IonQ Backend\n",
    "\n",
    "The IonQ provider supports two backend types:\n",
    "* `ionq_simulator`: IonQ's simulator backend.\n",
    "* `ionq_qpu`: IonQ's QPU backend.\n",
    "\n",
    "To view all current backend types, use the `.backends` property on the provider instance:"
   ]
  },
  {
   "cell_type": "code",
   "execution_count": 3,
   "metadata": {},
   "outputs": [
    {
     "data": {
      "text/plain": [
       "[<IonQSimulatorBackend('ionq_simulator')>, <IonQQPUBackend('ionq_qpu')>]"
      ]
     },
     "execution_count": 3,
     "metadata": {},
     "output_type": "execute_result"
    }
   ],
   "source": [
    "# view list of available backends\n",
    "provider.backends()"
   ]
  },
  {
   "cell_type": "code",
   "execution_count": 4,
   "metadata": {},
   "outputs": [],
   "source": [
    "# load backend by using the get_backend method\n",
    "backend = provider.get_backend(\"ionq_simulator\")"
   ]
  },
  {
   "cell_type": "markdown",
   "metadata": {},
   "source": [
    "### Notes about running circuits on the IonQ backends\n",
    "Circuit building and visualization should feel identical to building a circuit using any other backend in Qiskit. \n",
    "\n",
    "That said, there are a few things to note when running on IonQ backends: \n",
    "1. IonQ backends do not allow arbitrary unitaries, mid-circuit resets or measurements, or multi-experiment jobs. In practice, this means using `reset`, `initialize`, `u` `u1`, `u2`, `u3`, `cu`, `cu1`, `cu2`, or `cu3` gates will throw an exception on submission, as will measuring mid-circuit, and submmitting jobs with multiple experiments.\n",
    "2. while `barrier` is allowed for organizational and visualization purposes, the IonQ compiler does not see it as a compiler directive.\n",
    "3. For the unitaries (`u`, `u1`, etc) and some other custom gates that [include appropriate decompositions](https://qiskit.org/documentation/stubs/qiskit.circuit.Instruction.html#qiskit.circuit.Instruction.add_decomposition), you can use the `transpile` method to rewrite your circuit into basis gates that the IonQ backends will take. See the example below.\n",
    "4. The IonQ simulator API natively produces ideal probabilities based on a statevector simulation, not counts. For ease of interoperability and portability, this package uses a simple random sampling to produce \"counts,\" and also exposes the true probabilities. The code samples below show this in more detail."
   ]
  },
  {
   "cell_type": "code",
   "execution_count": 5,
   "metadata": {},
   "outputs": [
    {
     "name": "stdout",
     "output_type": "stream",
     "text": [
      "global phase: 13π/8\n",
      "     ┌──────────┐┌───────────┐┌─┐\n",
      "  q: ┤ Ry(-π/2) ├┤ Rz(-3π/4) ├┤M├\n",
      "     └──────────┘└───────────┘└╥┘\n",
      "c: 1/══════════════════════════╩═\n",
      "                               0 \n"
     ]
    }
   ],
   "source": [
    "# transpilation example\n",
    "from qiskit import transpile\n",
    "from math import pi\n",
    "\n",
    "t_qc = QuantumCircuit(1,1)\n",
    "t_qc.u(pi/2, pi/4, pi, 0)\n",
    "t_qc.measure(0,0)\n",
    "transpiled = transpile(t_qc, backend)\n",
    "print(transpiled)"
   ]
  },
  {
   "cell_type": "markdown",
   "metadata": {},
   "source": [
    "### Running our bell pair circuit\n",
    "Now, let's run our bell pair circuit on the simulator. \n",
    "\n",
    "Because we've already defined our backend and written our circuit, all we have to do now is `run` it:"
   ]
  },
  {
   "cell_type": "code",
   "execution_count": 6,
   "metadata": {},
   "outputs": [],
   "source": [
    "# submit the circuit\n",
    "job = backend.run(bell_qc)"
   ]
  },
  {
   "cell_type": "code",
   "execution_count": 7,
   "metadata": {},
   "outputs": [],
   "source": [
    "# poll for the job's result   \n",
    "result = job.result()"
   ]
  },
  {
   "cell_type": "code",
   "execution_count": 8,
   "metadata": {},
   "outputs": [
    {
     "name": "stdout",
     "output_type": "stream",
     "text": [
      "{'00': 518, '11': 506}\n",
      "{'00': 0.5, '11': 0.5}\n"
     ]
    }
   ],
   "source": [
    "#get counts\n",
    "counts = result.get_counts()\n",
    "print(counts)\n",
    "\n",
    "# as mentioned before, these \"counts\" are really just a uniform sampling \n",
    "# of the underlying probabilities returned by the simulator. To get the \n",
    "# true probabilities, you can use the get_probabilities() method:\n",
    "\n",
    "probabilities = result.get_probabilities()\n",
    "print(probabilities)"
   ]
  },
  {
   "cell_type": "markdown",
   "metadata": {},
   "source": [
    "You can also use Qiskit's built-in tools to render the results as a histogram:"
   ]
  },
  {
   "cell_type": "code",
   "execution_count": 9,
   "metadata": {
    "scrolled": true
   },
   "outputs": [
    {
     "data": {
      "image/png": "[encoded data removed]",
      "text/plain": [
       "<Figure size 700x500 with 1 Axes>"
      ]
     },
     "execution_count": 9,
     "metadata": {},
     "output_type": "execute_result"
    }
   ],
   "source": [
    "#visualize counts\n",
    "plot_histogram(counts)"
   ]
  },
  {
   "cell_type": "markdown",
   "metadata": {},
   "source": [
    "## Example - Bernstein-Vazirani\n",
    "\n",
    "\n",
    "For our second example, let's build a Bernstein-Vazirani circuit and run it on a real IonQ quantum computer.\n",
    "\n",
    "Rather than manually building the BV circuit every time, we'll create a method that can build one for any oracle $s$, and any register size."
   ]
  },
  {
   "cell_type": "code",
   "execution_count": 10,
   "metadata": {},
   "outputs": [],
   "source": [
    "def make_bv_circuit(s_int, input_size):\n",
    "    \"\"\"build the Bernstein-Vazirani circuit\n",
    "     \n",
    "    Args:\n",
    "        s_int (int): value of s, the secret bitstring, as an integer\n",
    "        input_size (int): size of the input register, \n",
    "            i.e. the number of (qu)bits to use for the binary \n",
    "            representation of s\n",
    "\n",
    "    Returns:\n",
    "        circ (obj): the completed BV circuit\n",
    "\n",
    "    \"\"\"\n",
    "    # confirm the bitstring of S is what we think it should be\n",
    "    s = ('{0:0' + str(input_size) + 'b}').format(s_int)\n",
    "    print('s: ', s)\n",
    "    \n",
    "    # We need a circuit with `input_size` qubits, plus one ancilla qubit\n",
    "    # Also need `input_size` classical bits to write the output to\n",
    "    circ = QuantumCircuit(input_size + 1, input_size)\n",
    "\n",
    "    # put ancilla in state |-⟩\n",
    "    circ.h(input_size)\n",
    "    circ.z(input_size)\n",
    "    \n",
    "    # Apply Hadamard gates before querying the oracle\n",
    "    for i in range(input_size):\n",
    "        circ.h(i)\n",
    "\n",
    "    # Apply the inner-product oracle\n",
    "    s = s[::-1] # reverse s to fit qiskit's qubit ordering\n",
    "    for q in range(input_size):\n",
    "        if s[q] == '1':\n",
    "            circ.cx(q, input_size)\n",
    "\n",
    "    # Apply Hadamard gates after querying the oracle\n",
    "    for i in range(input_size):\n",
    "        circ.h(i)\n",
    "\n",
    "    # Measurement\n",
    "    for i in range(input_size):\n",
    "        circ.measure(i, i)\n",
    "    \n",
    "    return circ "
   ]
  },
  {
   "cell_type": "markdown",
   "metadata": {},
   "source": [
    "Now let's use that method to create a BV circuit to submit:"
   ]
  },
  {
   "cell_type": "code",
   "execution_count": 11,
   "metadata": {
    "scrolled": false
   },
   "outputs": [
    {
     "name": "stdout",
     "output_type": "stream",
     "text": [
      "s:  011\n"
     ]
    },
    {
     "data": {
      "text/html": [
       "<pre style=\"word-wrap: normal;white-space: pre;background: #fff0;line-height: 1.1;font-family: &quot;Courier New&quot;,Courier,monospace\">     ┌───┐          ┌───┐          ┌─┐   \n",
       "q_0: ┤ H ├───────■──┤ H ├──────────┤M├───\n",
       "     ├───┤       │  └───┘     ┌───┐└╥┘┌─┐\n",
       "q_1: ┤ H ├───────┼─────────■──┤ H ├─╫─┤M├\n",
       "     ├───┤┌───┐  │   ┌─┐   │  └───┘ ║ └╥┘\n",
       "q_2: ┤ H ├┤ H ├──┼───┤M├───┼────────╫──╫─\n",
       "     ├───┤├───┤┌─┴─┐ └╥┘ ┌─┴─┐      ║  ║ \n",
       "q_3: ┤ H ├┤ Z ├┤ X ├──╫──┤ X ├──────╫──╫─\n",
       "     └───┘└───┘└───┘  ║  └───┘      ║  ║ \n",
       "c: 3/═════════════════╩═════════════╩══╩═\n",
       "                      2             0  1 </pre>"
      ],
      "text/plain": [
       "     ┌───┐          ┌───┐          ┌─┐   \n",
       "q_0: ┤ H ├───────■──┤ H ├──────────┤M├───\n",
       "     ├───┤       │  └───┘     ┌───┐└╥┘┌─┐\n",
       "q_1: ┤ H ├───────┼─────────■──┤ H ├─╫─┤M├\n",
       "     ├───┤┌───┐  │   ┌─┐   │  └───┘ ║ └╥┘\n",
       "q_2: ┤ H ├┤ H ├──┼───┤M├───┼────────╫──╫─\n",
       "     ├───┤├───┤┌─┴─┐ └╥┘ ┌─┴─┐      ║  ║ \n",
       "q_3: ┤ H ├┤ Z ├┤ X ├──╫──┤ X ├──────╫──╫─\n",
       "     └───┘└───┘└───┘  ║  └───┘      ║  ║ \n",
       "c: 3/═════════════════╩═════════════╩══╩═\n",
       "                      2             0  1 "
      ]
     },
     "execution_count": 11,
     "metadata": {},
     "output_type": "execute_result"
    }
   ],
   "source": [
    "# Make a BV circuit:\n",
    "s_int = 3\n",
    "input_size = 3\n",
    "bv_qc = make_bv_circuit(s_int, input_size)\n",
    "\n",
    "# Print the circuit to confirm it was built as expected\n",
    "bv_qc.draw()"
   ]
  },
  {
   "cell_type": "markdown",
   "metadata": {},
   "source": [
    "Time to run it on an IonQ QPU!"
   ]
  },
  {
   "cell_type": "code",
   "execution_count": 12,
   "metadata": {},
   "outputs": [],
   "source": [
    "# Get the IonQ QPU backend to run circuits on:\n",
    "qpu_backend = provider.get_backend(\"ionq_qpu.aria-1\")\n",
    "\n",
    "# Then run the circuit:\n",
    "bv_job = qpu_backend.run(bv_qc, error_mitigation=ErrorMitigation.DEBIASING)"
   ]
  },
  {
   "cell_type": "markdown",
   "metadata": {},
   "source": [
    "As QPU time is a limited resource, QPU jobs are handled in a queue, and may take a little bit of time to return. Let's set up a cell we can run every once and a while that will print the status if it's not done, and the results if it is (you could also have this run on a loop with e.g. a minute or two sleep between checks) "
   ]
  },
  {
   "cell_type": "code",
   "execution_count": 13,
   "metadata": {
    "scrolled": true
   },
   "outputs": [
    {
     "name": "stdout",
     "output_type": "stream",
     "text": [
      "Job status is DONE\n"
     ]
    }
   ],
   "source": [
    "from qiskit.providers.jobstatus import JobStatus\n",
    "\n",
    "# Check if job is done\n",
    "if bv_job.status() is JobStatus.DONE:\n",
    "    \n",
    "    print(\"Job status is DONE\")\n",
    "    \n",
    "    # Fetch the result:\n",
    "    bv_job_result = bv_job.result(sharpen=True)\n",
    "   \n",
    "else:\n",
    "    print(\"Job status is \", bv_job.status() )"
   ]
  },
  {
   "cell_type": "code",
   "execution_count": 14,
   "metadata": {},
   "outputs": [
    {
     "data": {
      "image/png": "[encoded data removed]",
      "text/plain": [
       "<Figure size 504x360 with 1 Axes>"
      ]
     },
     "execution_count": 14,
     "metadata": {},
     "output_type": "execute_result"
    }
   ],
   "source": [
    "# If Job is finished, plot and validate results \n",
    "# (this cell will throw if we don't have results yet)\n",
    "plot_histogram(bv_job_result.get_counts())"
   ]
  },
  {
   "cell_type": "markdown",
   "metadata": {},
   "source": [
    "## Job History\n",
    "\n",
    "Provider backends can also be used to retrieve previously run jobs:"
   ]
  },
  {
   "cell_type": "code",
   "execution_count": 15,
   "metadata": {},
   "outputs": [
    {
     "data": {
      "image/png": "[encoded data removed]",
      "text/plain": [
       "<Figure size 504x360 with 1 Axes>"
      ]
     },
     "execution_count": 15,
     "metadata": {},
     "output_type": "execute_result"
    }
   ],
   "source": [
    "# Retrieve with job id. You can get this from a submitted job with the job_id() method.\n",
    "job_id = bv_job.job_id()\n",
    "retrieved = backend.retrieve_job(job_id) \n",
    "counts = retrieved.result(sharpen=True).get_counts()\n",
    "plot_histogram(counts)"
   ]
  },
  {
   "cell_type": "markdown",
   "metadata": {},
   "source": [
    "## Submitting multiple circuits in parallel \n",
    "\n",
    "We can use [multiprocessing](https://docs.python.org/3/library/multiprocessing.html) to submit multiple jobs containing different circuits to IonQ backend. Getting all results at once without blocking prior to all jobs being submitted."
   ]
  },
  {
   "cell_type": "code",
   "execution_count": 16,
   "metadata": {},
   "outputs": [
    {
     "name": "stdout",
     "output_type": "stream",
     "text": [
      "s:  0\n",
      "s:  1\n",
      "s:  10\n"
     ]
    }
   ],
   "source": [
    "# Create multiple circuits using previously defined Bernstein-Vazirani circuit\n",
    "circuits = []\n",
    "for i in range(3):\n",
    "    circuit = make_bv_circuit(i, i)\n",
    "    circuits.append(circuit)"
   ]
  },
  {
   "cell_type": "code",
   "execution_count": 17,
   "metadata": {},
   "outputs": [],
   "source": [
    "import time\n",
    "\n",
    "def get_result(circuit):\n",
    "    print(f\"Submitting circuit containing {circuit.num_qubits} qubits\")\n",
    "    \n",
    "    # Let's reuse the IonQ QPU backend defined before\n",
    "    qc_job = qpu_backend.run(circuit)\n",
    "    \n",
    "    # Check if job is done\n",
    "    while True:\n",
    "        if qc_job.status() is JobStatus.DONE:\n",
    "            # Fetch the result:\n",
    "            return qc_job.result().get_counts()\n",
    "        else:\n",
    "            # Results are not available, so wait for 1 minute before checking status again\n",
    "            time.sleep(60)\n",
    "            continue"
   ]
  },
  {
   "cell_type": "code",
   "execution_count": null,
   "metadata": {},
   "outputs": [],
   "source": [
    "from multiprocessing import Pool\n",
    "\n",
    "# We use create a single proceses for each circuit.\n",
    "with Pool(len(circuits)) as p:\n",
    "    results = p.map(get_result, circuits)\n",
    "print(results)"
   ]
  }
 ],
 "metadata": {
  "kernelspec": {
   "display_name": "Python 3",
   "language": "python",
   "name": "python3"
  },
  "language_info": {
   "codemirror_mode": {
    "name": "ipython",
    "version": 3
   },
   "file_extension": ".py",
   "mimetype": "text/x-python",
   "name": "python",
   "nbconvert_exporter": "python",
   "pygments_lexer": "ipython3",
   "version": "3.10.9"
  }
 },
 "nbformat": 4,
 "nbformat_minor": 4
}
