{
 "cells": [
  {
   "cell_type": "code",
   "execution_count": 1,
   "metadata": {},
   "outputs": [],
   "source": [
    "from qiskit import QuantumCircuit, transpile\n",
    "from qiskit_ionq import IonQProvider\n",
    "from math import pi\n",
    "from pprint import pprint"
   ]
  },
  {
   "cell_type": "code",
   "execution_count": 2,
   "metadata": {},
   "outputs": [],
   "source": [
    "provider = IonQProvider()\n",
    "backend = provider.get_backend(\"ionq_simulator\")"
   ]
  },
  {
   "cell_type": "code",
   "execution_count": 3,
   "metadata": {},
   "outputs": [
    {
     "name": "stdout",
     "output_type": "stream",
     "text": [
      "global phase: 3π/8\n",
      "        ┌──────────┐┌───────┐ ░ ┌─┐   \n",
      "   q_0: ┤ Rz(-π/4) ├┤ Ry(π) ├─░─┤M├───\n",
      "        └──────────┘└───────┘ ░ └╥┘┌─┐\n",
      "   q_1: ──────────────────────░──╫─┤M├\n",
      "                              ░  ║ └╥┘\n",
      "   c: 2/═════════════════════════╬══╬═\n",
      "                                 ║  ║ \n",
      "meas: 2/═════════════════════════╩══╩═\n",
      "                                 0  1 \n"
     ]
    }
   ],
   "source": [
    "qc1 = QuantumCircuit(2, 2, name=\"2 registers\")\n",
    "qc1.u(pi, pi/2, pi/4, 0)\n",
    "qc1.measure_all()\n",
    "qc1 = transpile(qc1, backend)\n",
    "\n",
    "print(qc1)"
   ]
  },
  {
   "cell_type": "code",
   "execution_count": 4,
   "metadata": {},
   "outputs": [
    {
     "name": "stdout",
     "output_type": "stream",
     "text": [
      "                     \n",
      "q_0: ────────────────\n",
      "     ┌───┐     ┌─┐   \n",
      "q_1: ┤ H ├──■──┤M├───\n",
      "     └───┘┌─┴─┐└╥┘┌─┐\n",
      "q_2: ─────┤ X ├─╫─┤M├\n",
      "          └───┘ ║ └╥┘\n",
      "c: 3/═══════════╩══╩═\n",
      "                2  0 \n"
     ]
    }
   ],
   "source": [
    "qc2 = QuantumCircuit(3, 3, name=\"inverted measurements\")\n",
    "qc2.h(1)\n",
    "qc2.cx(1, 2)\n",
    "qc2.measure([1, 2], [2, 0])\n",
    "print(qc2)"
   ]
  },
  {
   "cell_type": "code",
   "execution_count": 5,
   "metadata": {},
   "outputs": [
    {
     "name": "stdout",
     "output_type": "stream",
     "text": [
      "{\n",
      "  \"target\": \"simulator\",\n",
      "  \"shots\": 1024,\n",
      "  \"name\": \"2 registers, inverted measurements\",\n",
      "  \"input\": {\n",
      "    \"format\": \"ionq.circuit.v0\",\n",
      "    \"gateset\": \"qis\",\n",
      "    \"qubits\": 3,\n",
      "    \"circuits\": [\n",
      "      {\n",
      "        \"circuit\": [\n",
      "          {\n",
      "            \"gate\": \"rz\",\n",
      "            \"targets\": [\n",
      "              0\n",
      "            ],\n",
      "            \"rotation\": -0.7853981633974478\n",
      "          },\n",
      "          {\n",
      "            \"gate\": \"ry\",\n",
      "            \"targets\": [\n",
      "              0\n",
      "            ],\n",
      "            \"rotation\": 3.141592653589793\n",
      "          }\n",
      "        ],\n",
      "        \"registers\": {\n",
      "          \"meas_mapped\": [\n",
      "            null,\n",
      "            null,\n",
      "            0,\n",
      "            1\n",
      "          ]\n",
      "        }\n",
      "      },\n",
      "      {\n",
      "        \"circuit\": [\n",
      "          {\n",
      "            \"gate\": \"h\",\n",
      "            \"targets\": [\n",
      "              1\n",
      "            ]\n",
      "          },\n",
      "          {\n",
      "            \"gate\": \"x\",\n",
      "            \"targets\": [\n",
      "              2\n",
      "            ],\n",
      "            \"controls\": [\n",
      "              1\n",
      "            ]\n",
      "          }\n",
      "        ],\n",
      "        \"registers\": {\n",
      "          \"meas_mapped\": [\n",
      "            2,\n",
      "            null,\n",
      "            1\n",
      "          ]\n",
      "        }\n",
      "      }\n",
      "    ]\n",
      "  },\n",
      "  \"metadata\": {\n",
      "    \"shots\": \"1024\",\n",
      "    \"sampler_seed\": \"None\",\n",
      "    \"qiskit_header\": \"H4sIAEWgUmUC/12OwQ7CIBBEf4VwbgxgtdZfIQ2BhlQSEGHrQY3/7oJJg952Jm9m9kWDDTE/FPi4Aj2TviN08dFor24XDRYtvuPDiY2D6A9sPPJBIHJV6W5cTeyL1KGQVJBsFwerzUDRnlEpcE9bOCnpjKaYOiJxVUMVU8E8VimvjfUNyCpYLt5GWCt4zae/mbQ11yd/mtNWkb759wemJtMYAwEAAA==\"\n",
      "  },\n",
      "  \"noise\": {\n",
      "    \"model\": \"ideal\",\n",
      "    \"seed\": null\n",
      "  }\n",
      "}\n",
      "{'_backend': <IonQSimulatorBackend('ionq_simulator')>,\n",
      " '_client': <qiskit_ionq.ionq_client.IonQClient object at 0x15f990e90>,\n",
      " '_execution_time': None,\n",
      " '_job_id': 'de0ef030-c119-4524-a33e-4f0ef2d1762a',\n",
      " '_metadata': {},\n",
      " '_passed_args': {'job_settings': None, 'shots': 1024},\n",
      " '_result': None,\n",
      " '_status': <JobStatus.INITIALIZING: 'job is being initialized'>,\n",
      " 'circuit': [<qiskit.circuit.quantumcircuit.QuantumCircuit object at 0x168022b90>,\n",
      "             <qiskit.circuit.quantumcircuit.QuantumCircuit object at 0x15ffaa5d0>],\n",
      " 'extra_metadata': {},\n",
      " 'extra_query_params': {},\n",
      " 'metadata': {}}\n"
     ]
    }
   ],
   "source": [
    "qc = [qc1, qc2]\n",
    "job = backend.run(qc)\n",
    "pprint(vars(job))"
   ]
  },
  {
   "cell_type": "code",
   "execution_count": 6,
   "metadata": {
    "vscode": {
     "languageId": "javascript"
    }
   },
   "outputs": [],
   "source": [
    "c = {\n",
    "    \"name\": \"Sample circuit\",\n",
    "    \"metadata\": {\n",
    "        \"fizz\": \"buzz\",\n",
    "        \"foo\": \"bar\"\n",
    "    },\n",
    "    \"shots\": 500,\n",
    "    \"target\": \"simulator\",\n",
    "    \"noise\": {\n",
    "        \"model\": \"harmony\"\n",
    "    },\n",
    "    \"input\": {\n",
    "        \"format\": \"ionq.circuit.v0\",\n",
    "        \"qubits\": 1,\n",
    "        \"circuits\": [\n",
    "            {\n",
    "                \"qubits\": 1,\n",
    "                \"circuit\": [\n",
    "                    {\n",
    "                        \"gate\": \"h\",\n",
    "                        \"target\": 0\n",
    "                    }\n",
    "                ]\n",
    "            },\n",
    "            {\n",
    "                \"qubits\": 1,\n",
    "                \"circuit\": [\n",
    "                    {\n",
    "                        \"gate\": \"h\",\n",
    "                        \"target\": 0\n",
    "                    }\n",
    "                ]\n",
    "            }\n",
    "        ]\n",
    "    }\n",
    "}"
   ]
  }
 ],
 "metadata": {
  "kernelspec": {
   "display_name": "base",
   "language": "python",
   "name": "python3"
  },
  "language_info": {
   "codemirror_mode": {
    "name": "ipython",
    "version": 3
   },
   "file_extension": ".py",
   "mimetype": "text/x-python",
   "name": "python",
   "nbconvert_exporter": "python",
   "pygments_lexer": "ipython3",
   "version": "3.11.5"
  }
 },
 "nbformat": 4,
 "nbformat_minor": 2
}
