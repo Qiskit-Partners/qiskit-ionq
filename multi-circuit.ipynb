{
 "cells": [
  {
   "cell_type": "code",
   "execution_count": 1,
   "metadata": {},
   "outputs": [],
   "source": [
    "from qiskit import QuantumCircuit, transpile\n",
    "from qiskit_ionq import IonQProvider\n",
    "from math import pi\n",
    "from pprint import pprint"
   ]
  },
  {
   "cell_type": "code",
   "execution_count": 2,
   "metadata": {},
   "outputs": [],
   "source": [
    "provider = IonQProvider()\n",
    "backend = provider.get_backend(\"simulator\")"
   ]
  },
  {
   "cell_type": "code",
   "execution_count": 3,
   "metadata": {},
   "outputs": [
    {
     "name": "stdout",
     "output_type": "stream",
     "text": [
      "global phase: 3π/8\n",
      "        ┌──────────┐┌───────┐ ░ ┌─┐   \n",
      "   q_0: ┤ Rz(-π/4) ├┤ Ry(π) ├─░─┤M├───\n",
      "        └──────────┘└───────┘ ░ └╥┘┌─┐\n",
      "   q_1: ──────────────────────░──╫─┤M├\n",
      "                              ░  ║ └╥┘\n",
      "   c: 2/═════════════════════════╬══╬═\n",
      "                                 ║  ║ \n",
      "meas: 2/═════════════════════════╩══╩═\n",
      "                                 0  1 \n"
     ]
    }
   ],
   "source": [
    "qc1 = QuantumCircuit(2, 2, name=\"2 registers\")\n",
    "qc1.u(pi, pi/2, pi/4, 0)\n",
    "qc1.measure_all()\n",
    "qc1 = transpile(qc1, backend)\n",
    "\n",
    "print(qc1)"
   ]
  },
  {
   "cell_type": "code",
   "execution_count": 4,
   "metadata": {},
   "outputs": [
    {
     "name": "stdout",
     "output_type": "stream",
     "text": [
      "                     \n",
      "q_0: ────────────────\n",
      "     ┌───┐     ┌─┐   \n",
      "q_1: ┤ H ├──■──┤M├───\n",
      "     └───┘┌─┴─┐└╥┘┌─┐\n",
      "q_2: ─────┤ X ├─╫─┤M├\n",
      "          └───┘ ║ └╥┘\n",
      "c: 3/═══════════╩══╩═\n",
      "                2  0 \n"
     ]
    }
   ],
   "source": [
    "qc2 = QuantumCircuit(3, 3, name=\"inverted measurements\")\n",
    "qc2.h(1)\n",
    "qc2.cx(1, 2)\n",
    "qc2.measure([1, 2], [2, 0])\n",
    "print(qc2)"
   ]
  },
  {
   "cell_type": "code",
   "execution_count": 5,
   "metadata": {},
   "outputs": [
    {
     "name": "stdout",
     "output_type": "stream",
     "text": [
      "{\n",
      "  \"target\": \"simulator\",\n",
      "  \"shots\": 1024,\n",
      "  \"name\": \"2 registers\",\n",
      "  \"input\": {\n",
      "    \"format\": \"ionq.circuit.v0\",\n",
      "    \"gateset\": \"qis\",\n",
      "    \"qubits\": 2,\n",
      "    \"circuit\": [\n",
      "      {\n",
      "        \"gate\": \"rz\",\n",
      "        \"targets\": [\n",
      "          0\n",
      "        ],\n",
      "        \"rotation\": -0.7853981633974478\n",
      "      },\n",
      "      {\n",
      "        \"gate\": \"ry\",\n",
      "        \"targets\": [\n",
      "          0\n",
      "        ],\n",
      "        \"rotation\": 3.141592653589793\n",
      "      }\n",
      "    ]\n",
      "  },\n",
      "  \"metadata\": {\n",
      "    \"shots\": \"1024\",\n",
      "    \"sampler_seed\": \"None\",\n",
      "    \"qiskit_header\": \"H4sIAEv6bWUC/12OwQrDIBBEf0U8h6KS1qa/EoJokFTQWt3k0Jb+e1cLwfa2M7yZ2RcNNsT8UODjCvRC+o7QxUejvbpfNVi0+IHLMxuk6I9sOHEpELmptBlXE1XqUEgqSLaLg9VmoGjPqBS4py3cONIZTTF1ZMRVDVVMBfNYpbw21jcgq2C5eBthreA1n/5m0t5cn/xpTntF+ubfHyerv0EDAQAA\"\n",
      "  },\n",
      "  \"registers\": {\n",
      "    \"meas_mapped\": [\n",
      "      null,\n",
      "      null,\n",
      "      0,\n",
      "      1\n",
      "    ]\n",
      "  },\n",
      "  \"noise\": {\n",
      "    \"model\": \"ideal\",\n",
      "    \"seed\": null\n",
      "  }\n",
      "}\n",
      "{\n",
      "  \"target\": \"simulator\",\n",
      "  \"shots\": 1024,\n",
      "  \"name\": \"2 registers, inverted measurements\",\n",
      "  \"input\": {\n",
      "    \"format\": \"ionq.circuit.v0\",\n",
      "    \"gateset\": \"qis\",\n",
      "    \"qubits\": 3,\n",
      "    \"circuits\": [\n",
      "      {\n",
      "        \"circuit\": [\n",
      "          {\n",
      "            \"gate\": \"rz\",\n",
      "            \"targets\": [\n",
      "              0\n",
      "            ],\n",
      "            \"rotation\": -0.7853981633974478\n",
      "          },\n",
      "          {\n",
      "            \"gate\": \"ry\",\n",
      "            \"targets\": [\n",
      "              0\n",
      "            ],\n",
      "            \"rotation\": 3.141592653589793\n",
      "          }\n",
      "        ],\n",
      "        \"registers\": {\n",
      "          \"meas_mapped\": [\n",
      "            null,\n",
      "            null,\n",
      "            0,\n",
      "            1\n",
      "          ]\n",
      "        }\n",
      "      },\n",
      "      {\n",
      "        \"circuit\": [\n",
      "          {\n",
      "            \"gate\": \"h\",\n",
      "            \"targets\": [\n",
      "              1\n",
      "            ]\n",
      "          },\n",
      "          {\n",
      "            \"gate\": \"x\",\n",
      "            \"targets\": [\n",
      "              2\n",
      "            ],\n",
      "            \"controls\": [\n",
      "              1\n",
      "            ]\n",
      "          }\n",
      "        ],\n",
      "        \"registers\": {\n",
      "          \"meas_mapped\": [\n",
      "            2,\n",
      "            null,\n",
      "            1\n",
      "          ]\n",
      "        }\n",
      "      }\n",
      "    ]\n",
      "  },\n",
      "  \"metadata\": {\n",
      "    \"shots\": \"1024\",\n",
      "    \"sampler_seed\": \"None\"\n",
      "  },\n",
      "  \"noise\": {\n",
      "    \"model\": \"ideal\",\n",
      "    \"seed\": null\n",
      "  }\n",
      "}\n"
     ]
    }
   ],
   "source": [
    "job = backend.run(qc1)\n",
    "multijob = backend.run([qc1, qc2])"
   ]
  },
  {
   "cell_type": "code",
   "execution_count": 6,
   "metadata": {},
   "outputs": [
    {
     "name": "stdout",
     "output_type": "stream",
     "text": [
      "req_path='https://api.ionq.co/v0.3/jobs/0c448235-61a6-4e29-a6af-2aaafe7470e7', res.text='{\"settings\":{\"compilation\":{\"fractional\":true}},\"noise\":{\"model\":\"ideal\"},\"status\":\"submitted\",\"children\":[],\"name\":\"2 registers\",\"target\":\"simulator\",\"registers\":{\"meas_mapped\":[null,null,0,1]},\"metadata\":{\"shots\":\"1024\",\"sampler_seed\":\"None\",\"qiskit_header\":\"H4sIAEv6bWUC/12OwQrDIBBEf0U8h6KS1qa/EoJokFTQWt3k0Jb+e1cLwfa2M7yZ2RcNNsT8UODjCvRC+o7QxUejvbpfNVi0+IHLMxuk6I9sOHEpELmptBlXE1XqUEgqSLaLg9VmoGjPqBS4py3cONIZTTF1ZMRVDVVMBfNYpbw21jcgq2C5eBthreA1n/5m0t5cn/xpTntF+ubfHyerv0EDAQAA\"},\"predicted_execution_time\":4,\"id\":\"0c448235-61a6-4e29-a6af-2aaafe7470e7\",\"qubits\":2,\"request\":1701706315,\"gate_counts\":{\"1q\":2,\"2q\":0},\"error_mitigation\":{\"debias\":false}}'\n",
      "req_path='https://api.ionq.co/v0.3/jobs/0c448235-61a6-4e29-a6af-2aaafe7470e7', res.text='{\"settings\":{\"compilation\":{\"fractional\":true}},\"noise\":{\"model\":\"ideal\"},\"status\":\"completed\",\"children\":[],\"name\":\"2 registers\",\"target\":\"simulator\",\"registers\":{\"meas_mapped\":[null,null,0,1]},\"metadata\":{\"shots\":\"1024\",\"sampler_seed\":\"None\",\"qiskit_header\":\"H4sIAEv6bWUC/12OwQrDIBBEf0U8h6KS1qa/EoJokFTQWt3k0Jb+e1cLwfa2M7yZ2RcNNsT8UODjCvRC+o7QxUejvbpfNVi0+IHLMxuk6I9sOHEpELmptBlXE1XqUEgqSLaLg9VmoGjPqBS4py3cONIZTTF1ZMRVDVVMBfNYpbw21jcgq2C5eBthreA1n/5m0t5cn/xpTntF+ubfHyerv0EDAQAA\"},\"predicted_execution_time\":4,\"execution_time\":24,\"id\":\"0c448235-61a6-4e29-a6af-2aaafe7470e7\",\"qubits\":2,\"request\":1701706315,\"start\":1701706316,\"response\":1701706316,\"gate_counts\":{\"1q\":2,\"2q\":0},\"error_mitigation\":{\"debias\":false},\"results_url\":\"/v0.3/jobs/0c448235-61a6-4e29-a6af-2aaafe7470e7/results\"}'\n",
      "{'settings': {'compilation': {'fractional': True}}, 'noise': {'model': 'ideal'}, 'status': 'completed', 'children': [], 'name': '2 registers', 'target': 'simulator', 'registers': {'meas_mapped': [None, None, 0, 1]}, 'metadata': {'shots': '1024', 'sampler_seed': 'None', 'qiskit_header': 'H4sIAEv6bWUC/12OwQrDIBBEf0U8h6KS1qa/EoJokFTQWt3k0Jb+e1cLwfa2M7yZ2RcNNsT8UODjCvRC+o7QxUejvbpfNVi0+IHLMxuk6I9sOHEpELmptBlXE1XqUEgqSLaLg9VmoGjPqBS4py3cONIZTTF1ZMRVDVVMBfNYpbw21jcgq2C5eBthreA1n/5m0t5cn/xpTntF+ubfHyerv0EDAQAA'}, 'predicted_execution_time': 4, 'execution_time': 24, 'id': '0c448235-61a6-4e29-a6af-2aaafe7470e7', 'qubits': 2, 'request': 1701706315, 'start': 1701706316, 'response': 1701706316, 'gate_counts': {'1q': 2, '2q': 0}, 'error_mitigation': {'debias': False}, 'results_url': '/v0.3/jobs/0c448235-61a6-4e29-a6af-2aaafe7470e7/results'}\n",
      "req_path='https://api.ionq.co/v0.3/jobs/0c448235-61a6-4e29-a6af-2aaafe7470e7/results', res.text='{\"1\":1.000000000}'\n",
      "{'01 00': 1024}\n",
      "req_path='https://api.ionq.co/v0.3/jobs/e484a0d2-b7fa-46c9-a9c9-069dcb2fff5c', res.text='{\"settings\":{\"compilation\":{\"fractional\":true}},\"noise\":{\"model\":\"ideal\"},\"status\":\"submitted\",\"children\":[\"4cb201bb-d3c8-48cb-bbed-e1fa6f1bb417\",\"20c5e697-35d6-48db-bff9-6337d6454926\"],\"name\":\"2 registers, inverted measurements\",\"target\":\"simulator\",\"metadata\":{\"shots\":\"1024\",\"sampler_seed\":\"None\"},\"id\":\"e484a0d2-b7fa-46c9-a9c9-069dcb2fff5c\",\"request\":1701706316}'\n",
      "req_path='https://api.ionq.co/v0.3/jobs/e484a0d2-b7fa-46c9-a9c9-069dcb2fff5c', res.text='{\"settings\":{\"compilation\":{\"fractional\":true}},\"noise\":{\"model\":\"ideal\"},\"status\":\"completed\",\"children\":[\"4cb201bb-d3c8-48cb-bbed-e1fa6f1bb417\",\"20c5e697-35d6-48db-bff9-6337d6454926\"],\"name\":\"2 registers, inverted measurements\",\"target\":\"simulator\",\"metadata\":{\"shots\":\"1024\",\"sampler_seed\":\"None\"},\"execution_time\":121,\"id\":\"e484a0d2-b7fa-46c9-a9c9-069dcb2fff5c\",\"request\":1701706316,\"start\":1701706318,\"response\":1701706318,\"results_url\":\"/v0.3/jobs/e484a0d2-b7fa-46c9-a9c9-069dcb2fff5c/results\"}'\n",
      "{'settings': {'compilation': {'fractional': True}}, 'noise': {'model': 'ideal'}, 'status': 'completed', 'children': ['4cb201bb-d3c8-48cb-bbed-e1fa6f1bb417', '20c5e697-35d6-48db-bff9-6337d6454926'], 'name': '2 registers, inverted measurements', 'target': 'simulator', 'metadata': {'shots': '1024', 'sampler_seed': 'None'}, 'execution_time': 121, 'id': 'e484a0d2-b7fa-46c9-a9c9-069dcb2fff5c', 'request': 1701706316, 'start': 1701706318, 'response': 1701706318, 'results_url': '/v0.3/jobs/e484a0d2-b7fa-46c9-a9c9-069dcb2fff5c/results'}\n",
      "req_path='https://api.ionq.co/v0.3/jobs/e484a0d2-b7fa-46c9-a9c9-069dcb2fff5c/results', res.text='{\"error\":\"Not Found\",\"message\":\"Not Found\",\"statusCode\":404}'\n"
     ]
    },
    {
     "ename": "IonQAPIError",
     "evalue": "IonQAPIError(message='Not Found',status_code=404,headers={'Date': 'Mon, 04 Dec 2023 16:12:09 GMT', 'Content-Type': 'application/json; charset=utf-8', 'Transfer-Encoding': 'chunked', 'Connection': 'keep-alive', 'Access-Control-Allow-Credentials': 'true', 'Access-Control-Expose-Headers': 'x-ionq-session', 'Cache-Control': 'no-cache', 'Strict-Transport-Security': \"'max-age=86400; includeSubDomains'\", 'Vary': 'Origin', 'CF-Cache-Status': 'DYNAMIC', 'Server': 'cloudflare', 'CF-RAY': '8305544e1d410ceb-LAX', 'Content-Encoding': 'gzip'},body={\"error\":\"Not Found\",\"message\":\"Not Found\",\"statusCode\":404},error_type='Not Found')",
     "output_type": "error",
     "traceback": [
      "\u001b[0;31m---------------------------------------------------------------------------\u001b[0m",
      "\u001b[0;31mIonQAPIError\u001b[0m                              Traceback (most recent call last)",
      "\u001b[1;32m/Users/churchill/GitHub/qiskit-ionq/multi-circuit.ipynb Cell 6\u001b[0m line \u001b[0;36m2\n\u001b[1;32m      <a href='vscode-notebook-cell:/Users/churchill/GitHub/qiskit-ionq/multi-circuit.ipynb#W5sZmlsZQ%3D%3D?line=0'>1</a>\u001b[0m \u001b[39mprint\u001b[39m(job\u001b[39m.\u001b[39mget_counts())\n\u001b[0;32m----> <a href='vscode-notebook-cell:/Users/churchill/GitHub/qiskit-ionq/multi-circuit.ipynb#W5sZmlsZQ%3D%3D?line=1'>2</a>\u001b[0m \u001b[39mprint\u001b[39m(multijob\u001b[39m.\u001b[39mget_counts())\n",
      "File \u001b[0;32m~/GitHub/qiskit-ionq/qiskit_ionq/ionq_job.py:242\u001b[0m, in \u001b[0;36mIonQJob.get_counts\u001b[0;34m(self, circuit)\u001b[0m\n\u001b[1;32m    223\u001b[0m \u001b[39mdef\u001b[39;00m \u001b[39mget_counts\u001b[39m(\u001b[39mself\u001b[39m, circuit\u001b[39m=\u001b[39m\u001b[39mNone\u001b[39;00m):\n\u001b[1;32m    224\u001b[0m \u001b[39m    \u001b[39m\u001b[39m\"\"\"Return the counts for the job.\u001b[39;00m\n\u001b[1;32m    225\u001b[0m \n\u001b[1;32m    226\u001b[0m \u001b[39m    .. ATTENTION::\u001b[39;00m\n\u001b[0;32m   (...)\u001b[0m\n\u001b[1;32m    240\u001b[0m \u001b[39m        dict: A dictionary of counts.\u001b[39;00m\n\u001b[1;32m    241\u001b[0m \u001b[39m    \"\"\"\u001b[39;00m\n\u001b[0;32m--> 242\u001b[0m     \u001b[39mreturn\u001b[39;00m \u001b[39mself\u001b[39m\u001b[39m.\u001b[39mresult()\u001b[39m.\u001b[39mget_counts(circuit)\n",
      "File \u001b[0;32m~/GitHub/qiskit-ionq/qiskit_ionq/ionq_job.py:295\u001b[0m, in \u001b[0;36mIonQJob.result\u001b[0;34m(self, sharpen, extra_query_params, **kwargs)\u001b[0m\n\u001b[1;32m    290\u001b[0m     \u001b[39mraise\u001b[39;00m exceptions\u001b[39m.\u001b[39mIonQJobTimeoutError(\n\u001b[1;32m    291\u001b[0m         \u001b[39m\"\u001b[39m\u001b[39mTimed out waiting for job to complete.\u001b[39m\u001b[39m\"\u001b[39m\n\u001b[1;32m    292\u001b[0m     ) \u001b[39mfrom\u001b[39;00m \u001b[39mex\u001b[39;00m\n\u001b[1;32m    294\u001b[0m \u001b[39mif\u001b[39;00m \u001b[39mself\u001b[39m\u001b[39m.\u001b[39m_status \u001b[39mis\u001b[39;00m jobstatus\u001b[39m.\u001b[39mJobStatus\u001b[39m.\u001b[39mDONE:\n\u001b[0;32m--> 295\u001b[0m     response \u001b[39m=\u001b[39m \u001b[39mself\u001b[39m\u001b[39m.\u001b[39m_client\u001b[39m.\u001b[39mget_results(\n\u001b[1;32m    296\u001b[0m         job_id\u001b[39m=\u001b[39m\u001b[39mself\u001b[39m\u001b[39m.\u001b[39m_job_id,\n\u001b[1;32m    297\u001b[0m         sharpen\u001b[39m=\u001b[39msharpen,\n\u001b[1;32m    298\u001b[0m         extra_query_params\u001b[39m=\u001b[39mextra_query_params,\n\u001b[1;32m    299\u001b[0m     )\n\u001b[1;32m    300\u001b[0m     \u001b[39mself\u001b[39m\u001b[39m.\u001b[39m_result \u001b[39m=\u001b[39m \u001b[39mself\u001b[39m\u001b[39m.\u001b[39m_format_result(response)\n\u001b[1;32m    302\u001b[0m \u001b[39mreturn\u001b[39;00m \u001b[39mself\u001b[39m\u001b[39m.\u001b[39m_result\n",
      "File \u001b[0;32m/opt/homebrew/anaconda3/lib/python3.11/site-packages/decorator.py:232\u001b[0m, in \u001b[0;36mdecorate.<locals>.fun\u001b[0;34m(*args, **kw)\u001b[0m\n\u001b[1;32m    230\u001b[0m \u001b[39mif\u001b[39;00m \u001b[39mnot\u001b[39;00m kwsyntax:\n\u001b[1;32m    231\u001b[0m     args, kw \u001b[39m=\u001b[39m fix(args, kw, sig)\n\u001b[0;32m--> 232\u001b[0m \u001b[39mreturn\u001b[39;00m caller(func, \u001b[39m*\u001b[39m(extras \u001b[39m+\u001b[39m args), \u001b[39m*\u001b[39m\u001b[39m*\u001b[39mkw)\n",
      "File \u001b[0;32m/opt/homebrew/anaconda3/lib/python3.11/site-packages/retry/api.py:73\u001b[0m, in \u001b[0;36mretry.<locals>.retry_decorator\u001b[0;34m(f, *fargs, **fkwargs)\u001b[0m\n\u001b[1;32m     71\u001b[0m args \u001b[39m=\u001b[39m fargs \u001b[39mif\u001b[39;00m fargs \u001b[39melse\u001b[39;00m \u001b[39mlist\u001b[39m()\n\u001b[1;32m     72\u001b[0m kwargs \u001b[39m=\u001b[39m fkwargs \u001b[39mif\u001b[39;00m fkwargs \u001b[39melse\u001b[39;00m \u001b[39mdict\u001b[39m()\n\u001b[0;32m---> 73\u001b[0m \u001b[39mreturn\u001b[39;00m __retry_internal(partial(f, \u001b[39m*\u001b[39margs, \u001b[39m*\u001b[39m\u001b[39m*\u001b[39mkwargs), exceptions, tries, delay, max_delay, backoff, jitter,\n\u001b[1;32m     74\u001b[0m                         logger)\n",
      "File \u001b[0;32m/opt/homebrew/anaconda3/lib/python3.11/site-packages/retry/api.py:33\u001b[0m, in \u001b[0;36m__retry_internal\u001b[0;34m(f, exceptions, tries, delay, max_delay, backoff, jitter, logger)\u001b[0m\n\u001b[1;32m     31\u001b[0m \u001b[39mwhile\u001b[39;00m _tries:\n\u001b[1;32m     32\u001b[0m     \u001b[39mtry\u001b[39;00m:\n\u001b[0;32m---> 33\u001b[0m         \u001b[39mreturn\u001b[39;00m f()\n\u001b[1;32m     34\u001b[0m     \u001b[39mexcept\u001b[39;00m exceptions \u001b[39mas\u001b[39;00m e:\n\u001b[1;32m     35\u001b[0m         _tries \u001b[39m-\u001b[39m\u001b[39m=\u001b[39m \u001b[39m1\u001b[39m\n",
      "File \u001b[0;32m~/GitHub/qiskit-ionq/qiskit_ionq/ionq_client.py:261\u001b[0m, in \u001b[0;36mIonQClient.get_results\u001b[0;34m(self, job_id, sharpen, extra_query_params)\u001b[0m\n\u001b[1;32m    259\u001b[0m req_path \u001b[39m=\u001b[39m \u001b[39mself\u001b[39m\u001b[39m.\u001b[39mmake_path(\u001b[39m\"\u001b[39m\u001b[39mjobs\u001b[39m\u001b[39m\"\u001b[39m, job_id, \u001b[39m\"\u001b[39m\u001b[39mresults\u001b[39m\u001b[39m\"\u001b[39m)\n\u001b[1;32m    260\u001b[0m res \u001b[39m=\u001b[39m \u001b[39mself\u001b[39m\u001b[39m.\u001b[39m_get_with_retry(req_path, headers\u001b[39m=\u001b[39m\u001b[39mself\u001b[39m\u001b[39m.\u001b[39mapi_headers, params\u001b[39m=\u001b[39mparams)\n\u001b[0;32m--> 261\u001b[0m exceptions\u001b[39m.\u001b[39mIonQAPIError\u001b[39m.\u001b[39mraise_for_status(res)\n\u001b[1;32m    262\u001b[0m \u001b[39mreturn\u001b[39;00m res\u001b[39m.\u001b[39mjson()\n",
      "File \u001b[0;32m~/GitHub/qiskit-ionq/qiskit_ionq/exceptions.py:113\u001b[0m, in \u001b[0;36mIonQAPIError.raise_for_status\u001b[0;34m(cls, response)\u001b[0m\n\u001b[1;32m    111\u001b[0m \u001b[39mif\u001b[39;00m _is_retriable(response\u001b[39m.\u001b[39mrequest\u001b[39m.\u001b[39mmethod, status_code):\n\u001b[1;32m    112\u001b[0m     \u001b[39mraise\u001b[39;00m IonQRetriableError(res)\n\u001b[0;32m--> 113\u001b[0m \u001b[39mraise\u001b[39;00m res\n",
      "\u001b[0;31mIonQAPIError\u001b[0m: IonQAPIError(message='Not Found',status_code=404,headers={'Date': 'Mon, 04 Dec 2023 16:12:09 GMT', 'Content-Type': 'application/json; charset=utf-8', 'Transfer-Encoding': 'chunked', 'Connection': 'keep-alive', 'Access-Control-Allow-Credentials': 'true', 'Access-Control-Expose-Headers': 'x-ionq-session', 'Cache-Control': 'no-cache', 'Strict-Transport-Security': \"'max-age=86400; includeSubDomains'\", 'Vary': 'Origin', 'CF-Cache-Status': 'DYNAMIC', 'Server': 'cloudflare', 'CF-RAY': '8305544e1d410ceb-LAX', 'Content-Encoding': 'gzip'},body={\"error\":\"Not Found\",\"message\":\"Not Found\",\"statusCode\":404},error_type='Not Found')"
     ]
    }
   ],
   "source": [
    "print(job.get_counts())\n",
    "print(multijob.get_counts())"
   ]
  },
  {
   "cell_type": "code",
   "execution_count": null,
   "metadata": {},
   "outputs": [],
   "source": [
    "pprint(vars(job))\n",
    "pprint(vars(multijob))"
   ]
  },
  {
   "cell_type": "code",
   "execution_count": null,
   "metadata": {
    "vscode": {
     "languageId": "javascript"
    }
   },
   "outputs": [],
   "source": [
    "c = {\n",
    "    \"name\": \"Sample circuit\",\n",
    "    \"metadata\": {\n",
    "        \"fizz\": \"buzz\",\n",
    "        \"foo\": \"bar\"\n",
    "    },\n",
    "    \"shots\": 500,\n",
    "    \"target\": \"simulator\",\n",
    "    \"noise\": {\n",
    "        \"model\": \"harmony\"\n",
    "    },\n",
    "    \"input\": {\n",
    "        \"format\": \"ionq.circuit.v0\",\n",
    "        \"qubits\": 1,\n",
    "        \"circuits\": [\n",
    "            {\n",
    "                \"qubits\": 1,\n",
    "                \"circuit\": [\n",
    "                    {\n",
    "                        \"gate\": \"h\",\n",
    "                        \"target\": 0\n",
    "                    }\n",
    "                ]\n",
    "            },\n",
    "            {\n",
    "                \"qubits\": 1,\n",
    "                \"circuit\": [\n",
    "                    {\n",
    "                        \"gate\": \"h\",\n",
    "                        \"target\": 0\n",
    "                    }\n",
    "                ]\n",
    "            }\n",
    "        ]\n",
    "    }\n",
    "}"
   ]
  }
 ],
 "metadata": {
  "kernelspec": {
   "display_name": "base",
   "language": "python",
   "name": "python3"
  },
  "language_info": {
   "codemirror_mode": {
    "name": "ipython",
    "version": 3
   },
   "file_extension": ".py",
   "mimetype": "text/x-python",
   "name": "python",
   "nbconvert_exporter": "python",
   "pygments_lexer": "ipython3",
   "version": "3.11.5"
  }
 },
 "nbformat": 4,
 "nbformat_minor": 2
}
