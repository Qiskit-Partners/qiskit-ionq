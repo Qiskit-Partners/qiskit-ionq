{
 "cells": [
  {
   "cell_type": "code",
   "execution_count": 1,
   "metadata": {},
   "outputs": [],
   "source": [
    "from qiskit.circuit import QuantumCircuit\n",
    "from qiskit.circuit.library import PauliEvolutionGate\n",
    "from qiskit.quantum_info import SparsePauliOp"
   ]
  },
  {
   "cell_type": "code",
   "execution_count": 2,
   "metadata": {},
   "outputs": [],
   "source": [
    "# build the evolution gate\n",
    "operator = SparsePauliOp([\"XX\", \"YY\", \"ZZ\"], coeffs=[0.1, 0.2, 0.3])\n",
    "evo = PauliEvolutionGate(operator, time=0.4)"
   ]
  },
  {
   "cell_type": "code",
   "execution_count": 3,
   "metadata": {},
   "outputs": [
    {
     "data": {
      "image/png": "[encoded data removed]",
      "text/plain": [
       "<Figure size 454.719x284.278 with 1 Axes>"
      ]
     },
     "execution_count": 3,
     "metadata": {},
     "output_type": "execute_result"
    }
   ],
   "source": [
    "# append it to a circuit\n",
    "circuit = QuantumCircuit(3)\n",
    "circuit.append(evo, [1, 2])\n",
    "circuit.draw(\"mpl\", style=\"iqp\")"
   ]
  },
  {
   "cell_type": "code",
   "execution_count": 4,
   "metadata": {},
   "outputs": [
    {
     "name": "stdout",
     "output_type": "stream",
     "text": [
      "instruction.name='PauliEvolution'\n",
      "instruction.label='exp(-it (XX + YY + ZZ))'\n",
      "instruction.time=0.4\n",
      "instruction.operator=SparsePauliOp(['XX', 'YY', 'ZZ'],\n",
      "              coeffs=[0.1+0.j, 0.2+0.j, 0.3+0.j])\n"
     ]
    }
   ],
   "source": [
    "# print the gates' information in the circuit\n",
    "for instruction, qargs, cargs in circuit.data:\n",
    "    print(f\"{instruction.name=}\")\n",
    "    print(f\"{instruction.label=}\")\n",
    "    print(f\"{instruction.time=}\")\n",
    "    print(f\"{instruction.operator=}\")"
   ]
  },
  {
   "cell_type": "code",
   "execution_count": 5,
   "metadata": {},
   "outputs": [],
   "source": [
    "import qiskit_ionq\n",
    "\n",
    "# prepare the IonQ backend\n",
    "provider = qiskit_ionq.IonQProvider()\n",
    "backend = provider.get_backend(\"simulator\")"
   ]
  },
  {
   "cell_type": "code",
   "execution_count": 6,
   "metadata": {},
   "outputs": [
    {
     "name": "stdout",
     "output_type": "stream",
     "text": [
      "instruction_name='PauliEvolution'\n",
      "{\n",
      "  \"target\": \"simulator\",\n",
      "  \"shots\": 1024,\n",
      "  \"name\": \"circuit-159\",\n",
      "  \"input\": {\n",
      "    \"format\": \"ionq.circuit.v0\",\n",
      "    \"gateset\": \"qis\",\n",
      "    \"qubits\": 3,\n",
      "    \"circuit\": [\n",
      "      {\n",
      "        \"gate\": \"pauliexp\",\n",
      "        \"targets\": [\n",
      "          1,\n",
      "          2\n",
      "        ],\n",
      "        \"terms\": [\n",
      "          \"XX\",\n",
      "          \"YY\",\n",
      "          \"ZZ\"\n",
      "        ],\n",
      "        \"coefficients\": [\n",
      "          {\n",
      "            \"real\": 0.1,\n",
      "            \"imaginary\": 0.0\n",
      "          },\n",
      "          {\n",
      "            \"real\": 0.2,\n",
      "            \"imaginary\": 0.0\n",
      "          },\n",
      "          {\n",
      "            \"real\": 0.3,\n",
      "            \"imaginary\": 0.0\n",
      "          }\n",
      "        ],\n",
      "        \"unitary\": true,\n",
      "        \"rotation\": 0.4\n",
      "      }\n",
      "    ]\n",
      "  },\n",
      "  \"registers\": {},\n",
      "  \"metadata\": {\n",
      "    \"shots\": \"1024\",\n",
      "    \"sampler_seed\": \"None\",\n",
      "    \"qiskit_header\": \"H4sIAJjFw2UC/1WLQQqDMBBFryKzrkUrXbRXkTAkYbCBSdMkZmFL725GQXD35703P/DkQ1owc5gzPJvu0sDEwWjGz0tnEnQV+MZYjNuaQU7txYF1yRY3t/39ARXbRBNm9yXpRiWE6xeyNsQHi6dqhFhfB7WZcq5311W1r/5YN6X+K8dFvJG+AAAA\"\n",
      "  },\n",
      "  \"noise\": {\n",
      "    \"model\": \"ideal\",\n",
      "    \"seed\": null\n",
      "  }\n",
      "}\n"
     ]
    },
    {
     "name": "stderr",
     "output_type": "stream",
     "text": [
      "/Users/churchill/GitHub/qiskit-ionq/qiskit_ionq/ionq_backend.py:377: UserWarning: Circuit circuit-159 is not measuring any qubits\n",
      "  return super().run(circuit, **kwargs)\n"
     ]
    },
    {
     "ename": "IonQJobFailureError",
     "evalue": "IonQJobFailureError('Unable to retreive result for job be0918f6-7133-49f1-bd6e-9fd27a6bae13. Failure from IonQ API \"PreflightError: illegal gate: \"pauliexp\"\"')",
     "output_type": "error",
     "traceback": [
      "\u001b[0;31m---------------------------------------------------------------------------\u001b[0m",
      "\u001b[0;31mIonQJobFailureError\u001b[0m                       Traceback (most recent call last)",
      "Cell \u001b[0;32mIn[6], line 2\u001b[0m\n\u001b[1;32m      1\u001b[0m job \u001b[38;5;241m=\u001b[39m backend\u001b[38;5;241m.\u001b[39mrun(circuit)\n\u001b[0;32m----> 2\u001b[0m result \u001b[38;5;241m=\u001b[39m \u001b[43mjob\u001b[49m\u001b[38;5;241;43m.\u001b[39;49m\u001b[43mresult\u001b[49m\u001b[43m(\u001b[49m\u001b[43m)\u001b[49m\n\u001b[1;32m      4\u001b[0m \u001b[38;5;28mprint\u001b[39m(result\u001b[38;5;241m.\u001b[39mget_counts())\n",
      "File \u001b[0;32m~/GitHub/qiskit-ionq/qiskit_ionq/ionq_job.py:286\u001b[0m, in \u001b[0;36mIonQJob.result\u001b[0;34m(self, sharpen, extra_query_params, **kwargs)\u001b[0m\n\u001b[1;32m    284\u001b[0m \u001b[38;5;66;03m# Wait for the job to complete.\u001b[39;00m\n\u001b[1;32m    285\u001b[0m \u001b[38;5;28;01mtry\u001b[39;00m:\n\u001b[0;32m--> 286\u001b[0m     \u001b[38;5;28;43mself\u001b[39;49m\u001b[38;5;241;43m.\u001b[39;49m\u001b[43mwait_for_final_state\u001b[49m\u001b[43m(\u001b[49m\u001b[38;5;241;43m*\u001b[39;49m\u001b[38;5;241;43m*\u001b[39;49m\u001b[43mkwargs\u001b[49m\u001b[43m)\u001b[49m\n\u001b[1;32m    287\u001b[0m \u001b[38;5;28;01mexcept\u001b[39;00m JobTimeoutError \u001b[38;5;28;01mas\u001b[39;00m ex:\n\u001b[1;32m    288\u001b[0m     \u001b[38;5;28;01mraise\u001b[39;00m exceptions\u001b[38;5;241m.\u001b[39mIonQJobTimeoutError(\n\u001b[1;32m    289\u001b[0m         \u001b[38;5;124m\"\u001b[39m\u001b[38;5;124mTimed out waiting for job to complete.\u001b[39m\u001b[38;5;124m\"\u001b[39m\n\u001b[1;32m    290\u001b[0m     ) \u001b[38;5;28;01mfrom\u001b[39;00m \u001b[38;5;21;01mex\u001b[39;00m\n",
      "File \u001b[0;32m/opt/homebrew/lib/python3.11/site-packages/qiskit/providers/job.py:122\u001b[0m, in \u001b[0;36mJobV1.wait_for_final_state\u001b[0;34m(self, timeout, wait, callback)\u001b[0m\n\u001b[1;32m    120\u001b[0m         callback(\u001b[38;5;28mself\u001b[39m\u001b[38;5;241m.\u001b[39mjob_id(), status, \u001b[38;5;28mself\u001b[39m)\n\u001b[1;32m    121\u001b[0m     time\u001b[38;5;241m.\u001b[39msleep(wait)\n\u001b[0;32m--> 122\u001b[0m     status \u001b[38;5;241m=\u001b[39m \u001b[38;5;28;43mself\u001b[39;49m\u001b[38;5;241;43m.\u001b[39;49m\u001b[43mstatus\u001b[49m\u001b[43m(\u001b[49m\u001b[43m)\u001b[49m\n\u001b[1;32m    123\u001b[0m \u001b[38;5;28;01mreturn\u001b[39;00m\n",
      "File \u001b[0;32m~/GitHub/qiskit-ionq/qiskit_ionq/ionq_job.py:367\u001b[0m, in \u001b[0;36mIonQJob.status\u001b[0;34m(self)\u001b[0m\n\u001b[1;32m    362\u001b[0m     failure_message \u001b[38;5;241m=\u001b[39m failure\u001b[38;5;241m.\u001b[39mget(\u001b[38;5;124m\"\u001b[39m\u001b[38;5;124merror\u001b[39m\u001b[38;5;124m\"\u001b[39m, \u001b[38;5;124m\"\u001b[39m\u001b[38;5;124m\"\u001b[39m)\n\u001b[1;32m    363\u001b[0m     error_message \u001b[38;5;241m=\u001b[39m (\n\u001b[1;32m    364\u001b[0m         \u001b[38;5;124mf\u001b[39m\u001b[38;5;124m\"\u001b[39m\u001b[38;5;124mUnable to retreive result for job \u001b[39m\u001b[38;5;132;01m{\u001b[39;00m\u001b[38;5;28mself\u001b[39m\u001b[38;5;241m.\u001b[39mjob_id()\u001b[38;5;132;01m}\u001b[39;00m\u001b[38;5;124m. \u001b[39m\u001b[38;5;124m\"\u001b[39m\n\u001b[1;32m    365\u001b[0m         \u001b[38;5;124mf\u001b[39m\u001b[38;5;124m'\u001b[39m\u001b[38;5;124mFailure from IonQ API \u001b[39m\u001b[38;5;124m\"\u001b[39m\u001b[38;5;132;01m{\u001b[39;00mfailure_type\u001b[38;5;132;01m}\u001b[39;00m\u001b[38;5;124m: \u001b[39m\u001b[38;5;132;01m{\u001b[39;00mfailure_message\u001b[38;5;132;01m}\u001b[39;00m\u001b[38;5;124m\"\u001b[39m\u001b[38;5;124m'\u001b[39m\n\u001b[1;32m    366\u001b[0m     )\n\u001b[0;32m--> 367\u001b[0m     \u001b[38;5;28;01mraise\u001b[39;00m exceptions\u001b[38;5;241m.\u001b[39mIonQJobFailureError(error_message)\n\u001b[1;32m    369\u001b[0m \u001b[38;5;28;01mif\u001b[39;00m \u001b[38;5;28mself\u001b[39m\u001b[38;5;241m.\u001b[39m_status \u001b[38;5;241m==\u001b[39m jobstatus\u001b[38;5;241m.\u001b[39mJobStatus\u001b[38;5;241m.\u001b[39mCANCELLED:\n\u001b[1;32m    370\u001b[0m     error_message \u001b[38;5;241m=\u001b[39m (\n\u001b[1;32m    371\u001b[0m         \u001b[38;5;124mf\u001b[39m\u001b[38;5;124m'\u001b[39m\u001b[38;5;124mUnable to retreive result for job \u001b[39m\u001b[38;5;132;01m{\u001b[39;00m\u001b[38;5;28mself\u001b[39m\u001b[38;5;241m.\u001b[39mjob_id()\u001b[38;5;132;01m}\u001b[39;00m\u001b[38;5;124m. Job was cancelled\u001b[39m\u001b[38;5;124m\"\u001b[39m\u001b[38;5;124m'\u001b[39m\n\u001b[1;32m    372\u001b[0m     )\n",
      "\u001b[0;31mIonQJobFailureError\u001b[0m: IonQJobFailureError('Unable to retreive result for job be0918f6-7133-49f1-bd6e-9fd27a6bae13. Failure from IonQ API \"PreflightError: illegal gate: \"pauliexp\"\"')"
     ]
    }
   ],
   "source": [
    "job = backend.run(circuit)\n",
    "result = job.result()\n",
    "\n",
    "print(result.get_counts())"
   ]
  }
 ],
 "metadata": {
  "kernelspec": {
   "display_name": "Python 3",
   "language": "python",
   "name": "python3"
  },
  "language_info": {
   "codemirror_mode": {
    "name": "ipython",
    "version": 3
   },
   "file_extension": ".py",
   "mimetype": "text/x-python",
   "name": "python",
   "nbconvert_exporter": "python",
   "pygments_lexer": "ipython3",
   "version": "3.11.7"
  }
 },
 "nbformat": 4,
 "nbformat_minor": 2
}
