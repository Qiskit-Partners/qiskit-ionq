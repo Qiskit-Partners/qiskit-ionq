{
 "cells": [
  {
   "cell_type": "code",
   "execution_count": 1,
   "metadata": {},
   "outputs": [],
   "source": [
    "from qiskit import QuantumCircuit, transpile\n",
    "from qiskit_ionq import IonQProvider\n",
    "from math import pi\n",
    "from pprint import pprint"
   ]
  },
  {
   "cell_type": "code",
   "execution_count": 2,
   "metadata": {},
   "outputs": [
    {
     "ename": "QiskitBackendNotFoundError",
     "evalue": "'No backend matches criteria.'",
     "output_type": "error",
     "traceback": [
      "\u001b[0;31m---------------------------------------------------------------------------\u001b[0m",
      "\u001b[0;31mQiskitBackendNotFoundError\u001b[0m                Traceback (most recent call last)",
      "Cell \u001b[0;32mIn[2], line 2\u001b[0m\n\u001b[1;32m      1\u001b[0m provider \u001b[39m=\u001b[39m IonQProvider()\n\u001b[0;32m----> 2\u001b[0m backend \u001b[39m=\u001b[39m provider\u001b[39m.\u001b[39mget_backend(\u001b[39m\"\u001b[39m\u001b[39mionq_qpu\u001b[39m\u001b[39m\"\u001b[39m)\n",
      "File \u001b[0;32m~/GitHub/qiskit-ionq/qiskit_ionq/ionq_provider.py:102\u001b[0m, in \u001b[0;36mIonQProvider.get_backend\u001b[0;34m(self, name, gateset, **kwargs)\u001b[0m\n\u001b[1;32m    100\u001b[0m     \u001b[39mraise\u001b[39;00m QiskitBackendNotFoundError(\u001b[39m\"\u001b[39m\u001b[39mMore than one backend matches criteria.\u001b[39m\u001b[39m\"\u001b[39m)\n\u001b[1;32m    101\u001b[0m \u001b[39mif\u001b[39;00m \u001b[39mnot\u001b[39;00m backends:\n\u001b[0;32m--> 102\u001b[0m     \u001b[39mraise\u001b[39;00m QiskitBackendNotFoundError(\u001b[39m\"\u001b[39m\u001b[39mNo backend matches criteria.\u001b[39m\u001b[39m\"\u001b[39m)\n\u001b[1;32m    104\u001b[0m \u001b[39mreturn\u001b[39;00m backends[\u001b[39m0\u001b[39m]\u001b[39m.\u001b[39mwith_name(name, gateset\u001b[39m=\u001b[39mgateset)\n",
      "\u001b[0;31mQiskitBackendNotFoundError\u001b[0m: 'No backend matches criteria.'"
     ]
    }
   ],
   "source": [
    "provider = IonQProvider()\n",
    "backend = provider.get_backend(\"ionq_qpu\")"
   ]
  },
  {
   "cell_type": "code",
   "execution_count": 9,
   "metadata": {},
   "outputs": [
    {
     "name": "stdout",
     "output_type": "stream",
     "text": [
      "global phase: 3π/8\n",
      "        ┌──────────┐┌───────┐ ░ ┌─┐   \n",
      "   q_0: ┤ Rz(-π/4) ├┤ Ry(π) ├─░─┤M├───\n",
      "        └──────────┘└───────┘ ░ └╥┘┌─┐\n",
      "   q_1: ──────────────────────░──╫─┤M├\n",
      "                              ░  ║ └╥┘\n",
      "   c: 2/═════════════════════════╬══╬═\n",
      "                                 ║  ║ \n",
      "meas: 2/═════════════════════════╩══╩═\n",
      "                                 0  1 \n"
     ]
    }
   ],
   "source": [
    "qc1 = QuantumCircuit(2, 2)\n",
    "qc1.u(pi, pi/2, pi/4, 0)\n",
    "qc1.measure_all()\n",
    "qc1 = transpile(qc1, backend)\n",
    "\n",
    "print(qc1)"
   ]
  },
  {
   "cell_type": "code",
   "execution_count": 10,
   "metadata": {},
   "outputs": [
    {
     "name": "stdout",
     "output_type": "stream",
     "text": [
      "                     \n",
      "q_0: ────────────────\n",
      "     ┌───┐     ┌─┐   \n",
      "q_1: ┤ H ├──■──┤M├───\n",
      "     └───┘┌─┴─┐└╥┘┌─┐\n",
      "q_2: ─────┤ X ├─╫─┤M├\n",
      "          └───┘ ║ └╥┘\n",
      "c: 3/═══════════╩══╩═\n",
      "                2  0 \n"
     ]
    }
   ],
   "source": [
    "qc2 = QuantumCircuit(3, 3, name=\"qiskit-bell\")\n",
    "qc2.h(1)\n",
    "qc2.cx(1, 2)\n",
    "qc2.measure([1, 2], [2, 0])\n",
    "print(qc2)"
   ]
  },
  {
   "cell_type": "code",
   "execution_count": 5,
   "metadata": {},
   "outputs": [
    {
     "name": "stdout",
     "output_type": "stream",
     "text": [
      "ionq_simulator\n",
      "{'_backend': <IonQSimulatorBackend('ionq_simulator')>,\n",
      " '_client': <qiskit_ionq.ionq_client.IonQClient object at 0x130688d00>,\n",
      " '_execution_time': None,\n",
      " '_job_id': '0c522f7b-ff0b-41c2-ba5f-bab32f6dd25a',\n",
      " '_metadata': {},\n",
      " '_passed_args': {'job_settings': None, 'shots': 1024},\n",
      " '_result': None,\n",
      " '_status': <JobStatus.INITIALIZING: 'job is being initialized'>,\n",
      " 'circuit': [<qiskit.circuit.quantumcircuit.QuantumCircuit object at 0x130689f30>,\n",
      "             <qiskit.circuit.quantumcircuit.QuantumCircuit object at 0x11a92ff70>],\n",
      " 'extra_query_params': None,\n",
      " 'metadata': {}}\n"
     ]
    }
   ],
   "source": [
    "qc = [qc1, qc2]\n",
    "job = backend.run(qc)\n",
    "pprint(vars(job))"
   ]
  },
  {
   "cell_type": "code",
   "execution_count": 15,
   "metadata": {},
   "outputs": [
    {
     "ename": "AttributeError",
     "evalue": "'CircuitInstruction' object has no attribute 'data'",
     "output_type": "error",
     "traceback": [
      "\u001b[0;31m---------------------------------------------------------------------------\u001b[0m",
      "\u001b[0;31mAttributeError\u001b[0m                            Traceback (most recent call last)",
      "Cell \u001b[0;32mIn[15], line 1\u001b[0m\n\u001b[0;32m----> 1\u001b[0m job1 \u001b[39m=\u001b[39m simulator_backend\u001b[39m.\u001b[39;49mrun(qc2)\n\u001b[1;32m      2\u001b[0m pprint(\u001b[39mvars\u001b[39m(job1))\n",
      "File \u001b[0;32m~/GitHub/qiskit-ionq/qiskit_ionq/ionq_backend.py:359\u001b[0m, in \u001b[0;36mIonQSimulatorBackend.run\u001b[0;34m(self, circuit, **kwargs)\u001b[0m\n\u001b[1;32m    344\u001b[0m \u001b[39mdef\u001b[39;00m \u001b[39mrun\u001b[39m(\u001b[39mself\u001b[39m, circuit, \u001b[39m*\u001b[39m\u001b[39m*\u001b[39mkwargs):\n\u001b[1;32m    345\u001b[0m     \u001b[39m\"\"\"Create and run a job on IonQ's Simulator Backend.\u001b[39;00m\n\u001b[1;32m    346\u001b[0m \n\u001b[1;32m    347\u001b[0m \u001b[39m    .. WARNING:\u001b[39;00m\n\u001b[0;32m   (...)\u001b[0m\n\u001b[1;32m    357\u001b[0m \u001b[39m        IonQJob: A reference to the job that was submitted.\u001b[39;00m\n\u001b[1;32m    358\u001b[0m \u001b[39m    \"\"\"\u001b[39;00m\n\u001b[0;32m--> 359\u001b[0m     \u001b[39mreturn\u001b[39;00m \u001b[39msuper\u001b[39;49m()\u001b[39m.\u001b[39;49mrun(circuit, \u001b[39m*\u001b[39;49m\u001b[39m*\u001b[39;49mkwargs)\n",
      "File \u001b[0;32m~/GitHub/qiskit-ionq/qiskit_ionq/ionq_backend.py:233\u001b[0m, in \u001b[0;36mIonQBackend.run\u001b[0;34m(self, circuit, **kwargs)\u001b[0m\n\u001b[1;32m    224\u001b[0m passed_args \u001b[39m=\u001b[39m kwargs\n\u001b[1;32m    226\u001b[0m job \u001b[39m=\u001b[39m ionq_job\u001b[39m.\u001b[39mIonQJob(\n\u001b[1;32m    227\u001b[0m     \u001b[39mself\u001b[39m,\n\u001b[1;32m    228\u001b[0m     \u001b[39mNone\u001b[39;00m,\n\u001b[0;32m   (...)\u001b[0m\n\u001b[1;32m    231\u001b[0m     passed_args\u001b[39m=\u001b[39mpassed_args,\n\u001b[1;32m    232\u001b[0m )\n\u001b[0;32m--> 233\u001b[0m job\u001b[39m.\u001b[39;49msubmit()\n\u001b[1;32m    234\u001b[0m \u001b[39mreturn\u001b[39;00m job\n",
      "File \u001b[0;32m~/GitHub/qiskit-ionq/qiskit_ionq/ionq_job.py:213\u001b[0m, in \u001b[0;36mIonQJob.submit\u001b[0;34m(self)\u001b[0m\n\u001b[1;32m    207\u001b[0m \u001b[39mif\u001b[39;00m \u001b[39mself\u001b[39m\u001b[39m.\u001b[39mcircuit \u001b[39mis\u001b[39;00m \u001b[39mNone\u001b[39;00m:\n\u001b[1;32m    208\u001b[0m     \u001b[39mraise\u001b[39;00m exceptions\u001b[39m.\u001b[39mIonQJobError(\n\u001b[1;32m    209\u001b[0m         \u001b[39m\"\u001b[39m\u001b[39mCannot submit a job without a circuit. \u001b[39m\u001b[39m\"\u001b[39m\n\u001b[1;32m    210\u001b[0m         \u001b[39m\"\u001b[39m\u001b[39mPlease create a job with a circuit and try again.\u001b[39m\u001b[39m\"\u001b[39m\n\u001b[1;32m    211\u001b[0m     )\n\u001b[0;32m--> 213\u001b[0m response \u001b[39m=\u001b[39m \u001b[39mself\u001b[39;49m\u001b[39m.\u001b[39;49m_client\u001b[39m.\u001b[39;49msubmit_job(job\u001b[39m=\u001b[39;49m\u001b[39mself\u001b[39;49m)\n\u001b[1;32m    214\u001b[0m \u001b[39mself\u001b[39m\u001b[39m.\u001b[39m_job_id \u001b[39m=\u001b[39m response[\u001b[39m\"\u001b[39m\u001b[39mid\u001b[39m\u001b[39m\"\u001b[39m]\n",
      "File \u001b[0;32m/opt/homebrew/anaconda3/lib/python3.10/site-packages/decorator.py:232\u001b[0m, in \u001b[0;36mdecorate.<locals>.fun\u001b[0;34m(*args, **kw)\u001b[0m\n\u001b[1;32m    230\u001b[0m \u001b[39mif\u001b[39;00m \u001b[39mnot\u001b[39;00m kwsyntax:\n\u001b[1;32m    231\u001b[0m     args, kw \u001b[39m=\u001b[39m fix(args, kw, sig)\n\u001b[0;32m--> 232\u001b[0m \u001b[39mreturn\u001b[39;00m caller(func, \u001b[39m*\u001b[39;49m(extras \u001b[39m+\u001b[39;49m args), \u001b[39m*\u001b[39;49m\u001b[39m*\u001b[39;49mkw)\n",
      "File \u001b[0;32m/opt/homebrew/anaconda3/lib/python3.10/site-packages/retry/api.py:73\u001b[0m, in \u001b[0;36mretry.<locals>.retry_decorator\u001b[0;34m(f, *fargs, **fkwargs)\u001b[0m\n\u001b[1;32m     71\u001b[0m args \u001b[39m=\u001b[39m fargs \u001b[39mif\u001b[39;00m fargs \u001b[39melse\u001b[39;00m \u001b[39mlist\u001b[39m()\n\u001b[1;32m     72\u001b[0m kwargs \u001b[39m=\u001b[39m fkwargs \u001b[39mif\u001b[39;00m fkwargs \u001b[39melse\u001b[39;00m \u001b[39mdict\u001b[39m()\n\u001b[0;32m---> 73\u001b[0m \u001b[39mreturn\u001b[39;00m __retry_internal(partial(f, \u001b[39m*\u001b[39;49margs, \u001b[39m*\u001b[39;49m\u001b[39m*\u001b[39;49mkwargs), exceptions, tries, delay, max_delay, backoff, jitter,\n\u001b[1;32m     74\u001b[0m                         logger)\n",
      "File \u001b[0;32m/opt/homebrew/anaconda3/lib/python3.10/site-packages/retry/api.py:33\u001b[0m, in \u001b[0;36m__retry_internal\u001b[0;34m(f, exceptions, tries, delay, max_delay, backoff, jitter, logger)\u001b[0m\n\u001b[1;32m     31\u001b[0m \u001b[39mwhile\u001b[39;00m _tries:\n\u001b[1;32m     32\u001b[0m     \u001b[39mtry\u001b[39;00m:\n\u001b[0;32m---> 33\u001b[0m         \u001b[39mreturn\u001b[39;00m f()\n\u001b[1;32m     34\u001b[0m     \u001b[39mexcept\u001b[39;00m exceptions \u001b[39mas\u001b[39;00m e:\n\u001b[1;32m     35\u001b[0m         _tries \u001b[39m-\u001b[39m\u001b[39m=\u001b[39m \u001b[39m1\u001b[39m\n",
      "File \u001b[0;32m~/GitHub/qiskit-ionq/qiskit_ionq/ionq_client.py:95\u001b[0m, in \u001b[0;36mIonQClient.submit_job\u001b[0;34m(self, job)\u001b[0m\n\u001b[1;32m     80\u001b[0m \u001b[39m@retry\u001b[39m(exceptions\u001b[39m=\u001b[39mIonQRetriableError, tries\u001b[39m=\u001b[39m\u001b[39m5\u001b[39m)\n\u001b[1;32m     81\u001b[0m \u001b[39mdef\u001b[39;00m \u001b[39msubmit_job\u001b[39m(\u001b[39mself\u001b[39m, job) \u001b[39m-\u001b[39m\u001b[39m>\u001b[39m \u001b[39mdict\u001b[39m:\n\u001b[1;32m     82\u001b[0m     \u001b[39m\"\"\"Submit job to IonQ API\u001b[39;00m\n\u001b[1;32m     83\u001b[0m \n\u001b[1;32m     84\u001b[0m \u001b[39m    This returns a JSON dict with status \"submitted\" and the job's id.\u001b[39;00m\n\u001b[0;32m   (...)\u001b[0m\n\u001b[1;32m     93\u001b[0m \u001b[39m        dict: A :mod:`requests <requests>` response :meth:`json <requests.Response.json>` dict.\u001b[39;00m\n\u001b[1;32m     94\u001b[0m \u001b[39m    \"\"\"\u001b[39;00m\n\u001b[0;32m---> 95\u001b[0m     as_json \u001b[39m=\u001b[39m qiskit_to_ionq(\n\u001b[1;32m     96\u001b[0m         job\u001b[39m.\u001b[39;49mcircuit,\n\u001b[1;32m     97\u001b[0m         job\u001b[39m.\u001b[39;49mbackend(),\n\u001b[1;32m     98\u001b[0m         job\u001b[39m.\u001b[39;49m_passed_args,\n\u001b[1;32m     99\u001b[0m         job\u001b[39m.\u001b[39;49mextra_query_params,\n\u001b[1;32m    100\u001b[0m     )\n\u001b[1;32m    101\u001b[0m     req_path \u001b[39m=\u001b[39m \u001b[39mself\u001b[39m\u001b[39m.\u001b[39mmake_path(\u001b[39m\"\u001b[39m\u001b[39mjobs\u001b[39m\u001b[39m\"\u001b[39m)\n\u001b[1;32m    102\u001b[0m     res \u001b[39m=\u001b[39m requests\u001b[39m.\u001b[39mpost(\n\u001b[1;32m    103\u001b[0m         req_path,\n\u001b[1;32m    104\u001b[0m         data\u001b[39m=\u001b[39mas_json,\n\u001b[1;32m    105\u001b[0m         headers\u001b[39m=\u001b[39m\u001b[39mself\u001b[39m\u001b[39m.\u001b[39mapi_headers,\n\u001b[1;32m    106\u001b[0m         timeout\u001b[39m=\u001b[39m\u001b[39m30\u001b[39m,\n\u001b[1;32m    107\u001b[0m     )\n",
      "File \u001b[0;32m~/GitHub/qiskit-ionq/qiskit_ionq/helpers.py:362\u001b[0m, in \u001b[0;36mqiskit_to_ionq\u001b[0;34m(circuit, backend, passed_args, extra_query_params)\u001b[0m\n\u001b[1;32m    360\u001b[0m \u001b[39mif\u001b[39;00m \u001b[39mlen\u001b[39m(circuit) \u001b[39m>\u001b[39m \u001b[39m1\u001b[39m:\n\u001b[1;32m    361\u001b[0m     \u001b[39mfor\u001b[39;00m circ \u001b[39min\u001b[39;00m circuit:\n\u001b[0;32m--> 362\u001b[0m         ionq_circ, _, meas_map \u001b[39m=\u001b[39m qiskit_circ_to_ionq_circ(circ, backend\u001b[39m.\u001b[39;49mgateset())\n\u001b[1;32m    363\u001b[0m         ionq_circs\u001b[39m.\u001b[39mappend(ionq_circ)\n\u001b[1;32m    364\u001b[0m \u001b[39melse\u001b[39;00m:\n",
      "File \u001b[0;32m~/GitHub/qiskit-ionq/qiskit_ionq/helpers.py:157\u001b[0m, in \u001b[0;36mqiskit_circ_to_ionq_circ\u001b[0;34m(input_circuit, gateset)\u001b[0m\n\u001b[1;32m    155\u001b[0m num_meas \u001b[39m=\u001b[39m \u001b[39m0\u001b[39m\n\u001b[1;32m    156\u001b[0m meas_map \u001b[39m=\u001b[39m [\u001b[39mNone\u001b[39;00m] \u001b[39m*\u001b[39m \u001b[39mlen\u001b[39m(input_circuit\u001b[39m.\u001b[39mclbits)\n\u001b[0;32m--> 157\u001b[0m \u001b[39mfor\u001b[39;00m instruction, qargs, cargs \u001b[39min\u001b[39;00m input_circuit\u001b[39m.\u001b[39;49mdata:\n\u001b[1;32m    158\u001b[0m     \u001b[39m# Don't process compiler directives.\u001b[39;00m\n\u001b[1;32m    159\u001b[0m     instruction_name \u001b[39m=\u001b[39m instruction\u001b[39m.\u001b[39mname\n\u001b[1;32m    160\u001b[0m     \u001b[39mif\u001b[39;00m instruction_name \u001b[39min\u001b[39;00m compiler_directives:\n",
      "\u001b[0;31mAttributeError\u001b[0m: 'CircuitInstruction' object has no attribute 'data'"
     ]
    }
   ],
   "source": [
    "job1 = simulator_backend.run(qc2)\n",
    "pprint(vars(job1))"
   ]
  },
  {
   "cell_type": "code",
   "execution_count": null,
   "metadata": {},
   "outputs": [],
   "source": []
  }
 ],
 "metadata": {
  "kernelspec": {
   "display_name": "base",
   "language": "python",
   "name": "python3"
  },
  "language_info": {
   "codemirror_mode": {
    "name": "ipython",
    "version": 3
   },
   "file_extension": ".py",
   "mimetype": "text/x-python",
   "name": "python",
   "nbconvert_exporter": "python",
   "pygments_lexer": "ipython3",
   "version": "3.11.3"
  },
  "orig_nbformat": 4
 },
 "nbformat": 4,
 "nbformat_minor": 2
}
